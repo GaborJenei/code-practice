{
 "cells": [
  {
   "cell_type": "markdown",
   "metadata": {},
   "source": [
    "# Decorators\n",
    "- function decorators\n",
    "- class decorators"
   ]
  },
  {
   "cell_type": "markdown",
   "metadata": {},
   "source": [
    "`@mydecorator\n",
    "def dosomething():\n",
    "    pass`\n",
    "\n",
    "It extends the functionality of the function they're decorate"
   ]
  },
  {
   "cell_type": "code",
   "execution_count": 2,
   "metadata": {},
   "outputs": [],
   "source": [
    "def start_end_decorator(func):\n",
    "    \n",
    "    def wrapper():\n",
    "        print('start')\n",
    "        func()\n",
    "        print('End')\n",
    "    return wrapper"
   ]
  },
  {
   "cell_type": "code",
   "execution_count": 5,
   "metadata": {},
   "outputs": [
    {
     "name": "stdout",
     "output_type": "stream",
     "text": [
      "start\n",
      "Alex\n",
      "End\n"
     ]
    }
   ],
   "source": [
    "def print_name():\n",
    "    print('Alex')\n",
    "    \n",
    "print_name = start_end_decorator(print_name)\n",
    "print_name()"
   ]
  },
  {
   "cell_type": "code",
   "execution_count": 7,
   "metadata": {},
   "outputs": [
    {
     "name": "stdout",
     "output_type": "stream",
     "text": [
      "start\n",
      "Alex\n",
      "End\n"
     ]
    }
   ],
   "source": [
    "@start_end_decorator\n",
    "def print_name():\n",
    "    print('Alex')\n",
    "    \n",
    "print_name()"
   ]
  },
  {
   "cell_type": "code",
   "execution_count": null,
   "metadata": {},
   "outputs": [],
   "source": [
    "def"
   ]
  }
 ],
 "metadata": {
  "kernelspec": {
   "display_name": "Python 3",
   "language": "python",
   "name": "python3"
  },
  "language_info": {
   "codemirror_mode": {
    "name": "ipython",
    "version": 3
   },
   "file_extension": ".py",
   "mimetype": "text/x-python",
   "name": "python",
   "nbconvert_exporter": "python",
   "pygments_lexer": "ipython3",
   "version": "3.8.2"
  }
 },
 "nbformat": 4,
 "nbformat_minor": 4
}
